{
 "cells": [
  {
   "cell_type": "code",
   "execution_count": 1,
   "id": "991b5108-0237-4b64-9bac-968800c51995",
   "metadata": {},
   "outputs": [
    {
     "name": "stdout",
     "output_type": "stream",
     "text": [
      "Original array:\n",
      "[ 34  12   7  56  89  22 457]\n",
      "Sorted array:\n",
      "[  7  12  22  34  56  89 457]\n"
     ]
    }
   ],
   "source": [
    "import numpy as np\n",
    "array = np.array([34, 12, 7, 56, 89, 22, 457])\n",
    "sorted_array = np.sort(array)\n",
    "print(\"Original array:\")\n",
    "print(array)\n",
    "print(\"Sorted array:\")\n",
    "print(sorted_array)"
   ]
  },
  {
   "cell_type": "code",
   "execution_count": 3,
   "id": "10544c4f-2796-4ca8-820a-68aaddd74344",
   "metadata": {},
   "outputs": [
    {
     "name": "stdout",
     "output_type": "stream",
     "text": [
      "[[ 2  3 10]\n",
      " [ 1  5  7]\n",
      " [ 5  6  7]]\n",
      "[[ 1  5  2]\n",
      " [ 3  7  5]\n",
      " [ 6 10  7]]\n",
      "[ 1  2  3  5  5  6  7  7 10]\n",
      "[[ 2  3 10]\n",
      " [ 1  5  7]\n",
      " [ 5  6  7]]\n"
     ]
    }
   ],
   "source": [
    "import numpy as np\n",
    "a = np.array([[3, 10, 2], [1, 5, 7], [6, 7, 5]])\n",
    "print(np.sort(a))\n",
    "array4 = np.sort(a, axis=0)\n",
    "print(array4)\n",
    "a1 = np.sort(a, axis=None)\n",
    "print(a1)\n",
    "a2 = np.sort(a, axis=1)\n",
    "print(a2)"
   ]
  },
  {
   "cell_type": "code",
   "execution_count": 7,
   "id": "2ceefd88-1287-4e1f-a1da-b710259b3f1d",
   "metadata": {},
   "outputs": [
    {
     "name": "stdout",
     "output_type": "stream",
     "text": [
      "0    1\n",
      "1    2\n",
      "2    3\n",
      "dtype: int64\n",
      "DataFrame:\n",
      "    Name  Age  Study\n",
      "0   Diya   19  BTECH\n",
      "1  Tayal   18    MBA\n",
      "2  Kayal   21    BSC\n"
     ]
    }
   ],
   "source": [
    "import pandas as pd\n",
    "l = [1, 2, 3]\n",
    "s = pd.Series(l)\n",
    "print(s)\n",
    "data = {\"Name\": [\"Diya\", \"Tayal\", \"Kayal\"],\n",
    "        \"Age\": [19, 18, 21],\n",
    "        \"Study\": [\"BTECH\", \"MBA\", \"BSC\"]}\n",
    "df = pd.DataFrame(data)\n",
    "print(\"DataFrame:\")\n",
    "print(df)"
   ]
  },
  {
   "cell_type": "code",
   "execution_count": 9,
   "id": "44776fb8-f832-4be9-ad7d-d335b4a1e78c",
   "metadata": {},
   "outputs": [
    {
     "name": "stdout",
     "output_type": "stream",
     "text": [
      "Least cost path from A to E : ['A', 'C', 'F', 'E']\n",
      "Total cost: 11\n"
     ]
    }
   ],
   "source": [
    "import heapq\n",
    "def uniform_cost_search(graph, start, goal):\n",
    "    priority_queue = [(0, start, [])]\n",
    "    visited = set()\n",
    "    while priority_queue:\n",
    "        cost, node, path = heapq.heappop(priority_queue)\n",
    "        if node in visited:\n",
    "            continue\n",
    "        path = path + [node]\n",
    "        visited.add(node)\n",
    "        if node == goal:\n",
    "            return cost, path\n",
    "        for neighbour, edge_cost in graph.get(node, []):\n",
    "            if neighbour not in visited:\n",
    "                heapq.heappush(priority_queue, (cost + edge_cost, neighbour, path))\n",
    "graph = {\n",
    "    'A': [('B', 8), ('C', 3)],\n",
    "    'B': [('E', 10), ('D', 2)],\n",
    "    'C': [('F', 6), ('G', 7)],\n",
    "    'F': [('E', 2), ('G', 1)]\n",
    "}\n",
    "start_node = 'A'\n",
    "goal_node = 'E'\n",
    "cost, path = uniform_cost_search(graph, start_node, goal_node)\n",
    "print(\"Least cost path from\", start_node, \"to\", goal_node, \":\", path)\n",
    "print(\"Total cost:\", cost)"
   ]
  },
  {
   "cell_type": "code",
   "execution_count": 16,
   "id": "034a735f-fb7f-4408-852e-37bffae29483",
   "metadata": {},
   "outputs": [
    {
     "name": "stdout",
     "output_type": "stream",
     "text": [
      "Least cost path from A to G is ['A', 'B', 'E', 'G']\n",
      "Total cost: 20\n"
     ]
    }
   ],
   "source": [
    "import heapq\n",
    "def astar_search(start, goal, graph, heuristic):\n",
    "    open_list = [(0, start, [])]    \n",
    "    while open_list:\n",
    "        cost, current_node, path = heapq.heappop(open_list)\n",
    "        path = path + [current_node]\n",
    "        if current_node == goal:\n",
    "                    return path, cost        \n",
    "        for neighbor, edge_cost in graph.get(current_node, []):\n",
    "            heapq.heappush(open_list, (cost + edge_cost + heuristic[neighbor], neighbor, path))    \n",
    "    return None\n",
    "graph = {\n",
    "    'A': [('B', 6), ('C', 3)],\n",
    "    'B': [('D', 2), ('E', 4)],\n",
    "    'C': [('F', 10)],\n",
    "    'D': [('G', 4)],\n",
    "    'E': [('G', 1)],\n",
    "    'F': [('G', 2)]\n",
    "}\n",
    "heuristic = {\n",
    "    'A': 7, 'B': 6, 'C': 5, 'D': 4, 'E': 3, 'F': 6, 'G': 0\n",
    "}\n",
    "start_node = 'A'\n",
    "goal_node = 'G'\n",
    "path, total_cost = astar_search(start_node, goal_node, graph, heuristic)\n",
    "print(\"Least cost path from\", start_node, \"to\", goal_node, \"is\", path)\n",
    "print(\"Total cost:\", total_cost)"
   ]
  },
  {
   "cell_type": "code",
   "execution_count": 53,
   "id": "1d113df3-e7dd-42ce-b8a8-d28d703df4b7",
   "metadata": {},
   "outputs": [
    {
     "name": "stdout",
     "output_type": "stream",
     "text": [
      "Optimal x: 1.9511\n",
      "Optimal value: 3.9976\n"
     ]
    }
   ],
   "source": [
    "import random\n",
    "def objective_function(x):\n",
    "    return -x**2 + 4*x\n",
    "def hill_climb(start_x, step_size=0.1, max_iterations=100):\n",
    "    current_x = start_x\n",
    "    current_value = objective_function(current_x)    \n",
    "    for _ in range(max_iterations):\n",
    "        neighbours = [current_x + step_size, current_x - step_size]\n",
    "        best_neighbour = max(neighbours, key=objective_function)\n",
    "        best_neighbour_value = objective_function(best_neighbour)        \n",
    "        if best_neighbour_value > current_value:\n",
    "            current_x, current_value = best_neighbour, best_neighbour_value\n",
    "        else:\n",
    "            break    \n",
    "    return current_x, current_value\n",
    "start_point = random.uniform(-10, 10)\n",
    "best_x, best_value = hill_climb(start_point)\n",
    "print(f\"Optimal x: {best_x:.4f}\")\n",
    "print(f\"Optimal value: {best_value:.4f}\")"
   ]
  },
  {
   "cell_type": "code",
   "execution_count": 55,
   "id": "91d82a58-6bbc-47dc-96fd-69169c65de47",
   "metadata": {},
   "outputs": [
    {
     "name": "stdout",
     "output_type": "stream",
     "text": [
      "The optimal value is: 3\n"
     ]
    }
   ],
   "source": [
    "MAX, MIN = 1000, -1000\n",
    "def minimax(depth, nodeIndex, maximizingPlayer, values, alpha, beta):\n",
    "    if depth == 3:\n",
    "        return values[nodeIndex]\n",
    "    if maximizingPlayer:\n",
    "        best = MIN\n",
    "        for i in range(2):\n",
    "            val = minimax(depth + 1, nodeIndex * 2 + i, False, values, alpha, beta)\n",
    "            best = max(best, val)\n",
    "            alpha = max(alpha, best)\n",
    "            if beta <= alpha:\n",
    "                break\n",
    "        return best\n",
    "    else:\n",
    "        best = MAX\n",
    "        for i in range(2):\n",
    "            val = minimax(depth + 1, nodeIndex * 2 + i, True, values, alpha, beta)\n",
    "            best = min(best, val)\n",
    "            beta = min(beta, best)\n",
    "            if beta <= alpha:\n",
    "                break\n",
    "        return best\n",
    "if __name__ == \"__main__\":\n",
    "    values = [3, 5, 6, 9, 1, 2, 0, -1]\n",
    "    print(\"The optimal value is:\", minimax(0, 0, True, values, MAX, MIN))\n",
    "\n"
   ]
  },
  {
   "cell_type": "code",
   "execution_count": 101,
   "id": "b2c86cb0-d51a-4781-8cbc-9b3596e6d413",
   "metadata": {},
   "outputs": [
    {
     "name": "stdout",
     "output_type": "stream",
     "text": [
      "1 0 0 0 0 0 0 0 \n",
      "0 0 0 0 0 0 1 0 \n",
      "0 0 0 0 1 0 0 0 \n",
      "0 0 0 0 0 0 0 1 \n",
      "0 1 0 0 0 0 0 0 \n",
      "0 0 0 1 0 0 0 0 \n",
      "0 0 0 0 0 1 0 0 \n",
      "0 0 1 0 0 0 0 0 \n"
     ]
    },
    {
     "data": {
      "text/plain": [
       "True"
      ]
     },
     "execution_count": 101,
     "metadata": {},
     "output_type": "execute_result"
    }
   ],
   "source": [
    "N = 8\n",
    "def printSolution(board):\n",
    "    for i in range(N):\n",
    "        for j in range(N):\n",
    "            print(board[i][j], end=' ')\n",
    "        print()\n",
    "def isSafe(board, row, col):\n",
    "    for i in range(col):\n",
    "        if board[row][i] == 1:\n",
    "            return False    \n",
    "    for i, j in zip(range(row, -1, -1), range(col, -1, -1)):\n",
    "        if board[i][j] == 1:\n",
    "            return False   \n",
    "    for i, j in zip(range(row, N, 1), range(col, -1, -1)):\n",
    "        if board[i][j] == 1:\n",
    "            return False\n",
    "    return True\n",
    "def solveNQUtil(board, col):\n",
    "    if col >= N:\n",
    "        return True\n",
    "\n",
    "    for i in range(N):\n",
    "        if isSafe(board, i, col):\n",
    "            board[i][col] = 1\n",
    "            if solveNQUtil(board, col + 1) == True:\n",
    "                return True\n",
    "            board[i][col] = 0  # Backtrack\n",
    "    return False\n",
    "def solveNQ():\n",
    "    board = [ [0 for _ in range(N)] for _ in range(N) ]\n",
    "    if solveNQUtil(board, 0) == False:\n",
    "        print (\"Solution does not exist\")\n",
    "        return False\n",
    "    printSolution(board)\n",
    "    return True\n",
    "solveNQ()"
   ]
  },
  {
   "cell_type": "code",
   "execution_count": null,
   "id": "1d9c85c7-13f9-4b58-8e7a-521957d711e7",
   "metadata": {},
   "outputs": [],
   "source": []
  }
 ],
 "metadata": {
  "kernelspec": {
   "display_name": "Python [conda env:base] *",
   "language": "python",
   "name": "conda-base-py"
  },
  "language_info": {
   "codemirror_mode": {
    "name": "ipython",
    "version": 3
   },
   "file_extension": ".py",
   "mimetype": "text/x-python",
   "name": "python",
   "nbconvert_exporter": "python",
   "pygments_lexer": "ipython3",
   "version": "3.12.7"
  }
 },
 "nbformat": 4,
 "nbformat_minor": 5
}
